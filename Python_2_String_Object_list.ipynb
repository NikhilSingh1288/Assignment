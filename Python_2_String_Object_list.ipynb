{
 "cells": [
  {
   "cell_type": "markdown",
   "metadata": {},
   "source": [
    "# 1.Create the below pattern using nested for loop in Python"
   ]
  },
  {
   "cell_type": "code",
   "execution_count": 24,
   "metadata": {},
   "outputs": [
    {
     "name": "stdout",
     "output_type": "stream",
     "text": [
      "Enter the No of Columns in a pattern: 5\n",
      "*\n",
      "**\n",
      "***\n",
      "****\n",
      "*****\n",
      "****\n",
      "***\n",
      "**\n",
      "*\n"
     ]
    }
   ],
   "source": [
    "col = int(input(\"Enter the No of Columns in a pattern: \"))\n",
    "for i in range(col):\n",
    "    print(\"*\"*(i+1))\n",
    "    if i+1==col:\n",
    "        for j in range(i,0,-1):\n",
    "            print(\"*\"*(j))"
   ]
  },
  {
   "cell_type": "markdown",
   "metadata": {},
   "source": [
    "# 2.Write a Python program to reverse a word after accepting the input from the user."
   ]
  },
  {
   "cell_type": "code",
   "execution_count": 2,
   "metadata": {},
   "outputs": [
    {
     "name": "stdout",
     "output_type": "stream",
     "text": [
      "Enter a String to be Reversed: INEURON\n",
      "Reversed String for the Entered Input is NORUENI\n"
     ]
    }
   ],
   "source": [
    "inp = input(\"Enter a String to be Reversed: \")\n",
    "print(f\"Reversed String for the Entered Input is {inp[::-1]}\")"
   ]
  },
  {
   "cell_type": "code",
   "execution_count": 14,
   "metadata": {},
   "outputs": [
    {
     "name": "stdout",
     "output_type": "stream",
     "text": [
      "Enter a String to be Reversed: INEURON\n",
      "Reversed String for the Entered Input is NORUENI\n"
     ]
    }
   ],
   "source": [
    "inp = input(\"Enter a String to be Reversed: \")\n",
    "res= \"\"\n",
    "for i in range(len(inp),0,-1):\n",
    "    res+=inp[i-1]\n",
    "print(f\"Reversed String for the Entered Input is {res}\")"
   ]
  }
 ],
 "metadata": {
  "kernelspec": {
   "display_name": "Python 3",
   "language": "python",
   "name": "python3"
  },
  "language_info": {
   "codemirror_mode": {
    "name": "ipython",
    "version": 3
   },
   "file_extension": ".py",
   "mimetype": "text/x-python",
   "name": "python",
   "nbconvert_exporter": "python",
   "pygments_lexer": "ipython3",
   "version": "3.8.6"
  }
 },
 "nbformat": 4,
 "nbformat_minor": 4
}

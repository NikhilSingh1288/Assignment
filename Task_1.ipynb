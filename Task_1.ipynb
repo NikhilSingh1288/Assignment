{
 "cells": [
  {
   "cell_type": "code",
   "execution_count": null,
   "metadata": {},
   "outputs": [],
   "source": [
    "   *\n",
    " *  *  \n",
    "*  *  *\n",
    " *  *\n",
    "   *"
   ]
  },
  {
   "cell_type": "code",
   "execution_count": null,
   "metadata": {},
   "outputs": [],
   "source": [
    "max_in_row = 3\n",
    "for i in range(3):\n",
    "    "
   ]
  },
  {
   "cell_type": "code",
   "execution_count": 7,
   "metadata": {},
   "outputs": [
    {
     "name": "stdout",
     "output_type": "stream",
     "text": [
      "[1, 2, 3, 3, 4]\n",
      "3-->2\n",
      "[2, 3, 3, 2]\n",
      "2-->2\n",
      "3-->2\n",
      "[4, 3, 2, 2]\n",
      "2-->2\n"
     ]
    }
   ],
   "source": [
    "l1=[[1,2,3,3,4],[2,3,3,2],[4,3,2,2]]\n",
    "\n",
    "for i in l1:\n",
    "    if type(l1)==list:\n",
    "        print(i)\n",
    "        d={}\n",
    "        for j in i:\n",
    "            if i.count(j)>1:\n",
    "                if j not in d:\n",
    "                    d[j]=i.count(j)\n",
    "                    print(f\"{j}-->{i.count(j)}\")\n",
    "                    \n",
    "            "
   ]
  }
 ],
 "metadata": {
  "kernelspec": {
   "display_name": "Python 3",
   "language": "python",
   "name": "python3"
  },
  "language_info": {
   "codemirror_mode": {
    "name": "ipython",
    "version": 3
   },
   "file_extension": ".py",
   "mimetype": "text/x-python",
   "name": "python",
   "nbconvert_exporter": "python",
   "pygments_lexer": "ipython3",
   "version": "3.8.6"
  }
 },
 "nbformat": 4,
 "nbformat_minor": 4
}
